{
  "nbformat": 4,
  "nbformat_minor": 0,
  "metadata": {
    "colab": {
      "provenance": [],
      "mount_file_id": "1_FE027SuJ5mcDCAs5ZmAe6woeoMAmBZN",
      "authorship_tag": "ABX9TyP41+Ops7rLIu+93qDGXTOc",
      "include_colab_link": true
    },
    "kernelspec": {
      "name": "python3",
      "display_name": "Python 3"
    },
    "language_info": {
      "name": "python"
    }
  },
  "cells": [
    {
      "cell_type": "markdown",
      "metadata": {
        "id": "view-in-github",
        "colab_type": "text"
      },
      "source": [
        "<a href=\"https://colab.research.google.com/github/Ganesh-Navadeep/POS-tagging-/blob/main/POS_tagging.ipynb\" target=\"_parent\"><img src=\"https://colab.research.google.com/assets/colab-badge.svg\" alt=\"Open In Colab\"/></a>"
      ]
    },
    {
      "cell_type": "code",
      "execution_count": 1,
      "metadata": {
        "colab": {
          "base_uri": "https://localhost:8080/"
        },
        "id": "cDpegBo1_keH",
        "outputId": "5aeb7f91-dae4-4a28-881d-3f49cfe016e5"
      },
      "outputs": [
        {
          "output_type": "stream",
          "name": "stderr",
          "text": [
            "/usr/local/lib/python3.11/dist-packages/keras/src/layers/core/embedding.py:90: UserWarning: Argument `input_length` is deprecated. Just remove it.\n",
            "  warnings.warn(\n"
          ]
        },
        {
          "output_type": "stream",
          "name": "stdout",
          "text": [
            "Epoch 1/15\n",
            "\u001b[1m24/24\u001b[0m \u001b[32m━━━━━━━━━━━━━━━━━━━━\u001b[0m\u001b[37m\u001b[0m \u001b[1m12s\u001b[0m 190ms/step - accuracy: 0.2649 - loss: 1.7135 - val_accuracy: 0.3543 - val_loss: 1.8297\n",
            "Epoch 2/15\n",
            "\u001b[1m24/24\u001b[0m \u001b[32m━━━━━━━━━━━━━━━━━━━━\u001b[0m\u001b[37m\u001b[0m \u001b[1m6s\u001b[0m 231ms/step - accuracy: 0.5884 - loss: 0.9659 - val_accuracy: 0.3518 - val_loss: 1.6787\n",
            "Epoch 3/15\n",
            "\u001b[1m24/24\u001b[0m \u001b[32m━━━━━━━━━━━━━━━━━━━━\u001b[0m\u001b[37m\u001b[0m \u001b[1m9s\u001b[0m 165ms/step - accuracy: 0.7257 - loss: 0.6938 - val_accuracy: 0.4557 - val_loss: 1.5459\n",
            "Epoch 4/15\n",
            "\u001b[1m24/24\u001b[0m \u001b[32m━━━━━━━━━━━━━━━━━━━━\u001b[0m\u001b[37m\u001b[0m \u001b[1m8s\u001b[0m 271ms/step - accuracy: 0.7793 - loss: 0.5642 - val_accuracy: 0.5540 - val_loss: 1.4362\n",
            "Epoch 5/15\n",
            "\u001b[1m24/24\u001b[0m \u001b[32m━━━━━━━━━━━━━━━━━━━━\u001b[0m\u001b[37m\u001b[0m \u001b[1m8s\u001b[0m 161ms/step - accuracy: 0.8042 - loss: 0.4843 - val_accuracy: 0.7000 - val_loss: 1.3331\n",
            "Epoch 6/15\n",
            "\u001b[1m24/24\u001b[0m \u001b[32m━━━━━━━━━━━━━━━━━━━━\u001b[0m\u001b[37m\u001b[0m \u001b[1m7s\u001b[0m 233ms/step - accuracy: 0.8264 - loss: 0.4200 - val_accuracy: 0.7527 - val_loss: 1.2301\n",
            "Epoch 7/15\n",
            "\u001b[1m24/24\u001b[0m \u001b[32m━━━━━━━━━━━━━━━━━━━━\u001b[0m\u001b[37m\u001b[0m \u001b[1m8s\u001b[0m 162ms/step - accuracy: 0.8382 - loss: 0.3782 - val_accuracy: 0.8063 - val_loss: 1.1530\n",
            "Epoch 8/15\n",
            "\u001b[1m24/24\u001b[0m \u001b[32m━━━━━━━━━━━━━━━━━━━━\u001b[0m\u001b[37m\u001b[0m \u001b[1m6s\u001b[0m 198ms/step - accuracy: 0.8569 - loss: 0.3376 - val_accuracy: 0.8000 - val_loss: 1.0867\n",
            "Epoch 9/15\n",
            "\u001b[1m24/24\u001b[0m \u001b[32m━━━━━━━━━━━━━━━━━━━━\u001b[0m\u001b[37m\u001b[0m \u001b[1m4s\u001b[0m 163ms/step - accuracy: 0.8635 - loss: 0.3048 - val_accuracy: 0.8800 - val_loss: 0.9562\n",
            "Epoch 10/15\n",
            "\u001b[1m24/24\u001b[0m \u001b[32m━━━━━━━━━━━━━━━━━━━━\u001b[0m\u001b[37m\u001b[0m \u001b[1m5s\u001b[0m 219ms/step - accuracy: 0.8856 - loss: 0.2646 - val_accuracy: 0.9162 - val_loss: 0.8566\n",
            "Epoch 11/15\n",
            "\u001b[1m24/24\u001b[0m \u001b[32m━━━━━━━━━━━━━━━━━━━━\u001b[0m\u001b[37m\u001b[0m \u001b[1m9s\u001b[0m 163ms/step - accuracy: 0.8955 - loss: 0.2496 - val_accuracy: 0.9382 - val_loss: 0.7626\n",
            "Epoch 12/15\n",
            "\u001b[1m24/24\u001b[0m \u001b[32m━━━━━━━━━━━━━━━━━━━━\u001b[0m\u001b[37m\u001b[0m \u001b[1m5s\u001b[0m 206ms/step - accuracy: 0.9036 - loss: 0.2329 - val_accuracy: 0.9378 - val_loss: 0.6780\n",
            "Epoch 13/15\n",
            "\u001b[1m24/24\u001b[0m \u001b[32m━━━━━━━━━━━━━━━━━━━━\u001b[0m\u001b[37m\u001b[0m \u001b[1m5s\u001b[0m 189ms/step - accuracy: 0.9142 - loss: 0.2131 - val_accuracy: 0.9483 - val_loss: 0.5764\n",
            "Epoch 14/15\n",
            "\u001b[1m24/24\u001b[0m \u001b[32m━━━━━━━━━━━━━━━━━━━━\u001b[0m\u001b[37m\u001b[0m \u001b[1m4s\u001b[0m 160ms/step - accuracy: 0.9200 - loss: 0.2016 - val_accuracy: 0.9532 - val_loss: 0.4998\n",
            "Epoch 15/15\n",
            "\u001b[1m24/24\u001b[0m \u001b[32m━━━━━━━━━━━━━━━━━━━━\u001b[0m\u001b[37m\u001b[0m \u001b[1m6s\u001b[0m 209ms/step - accuracy: 0.9259 - loss: 0.1875 - val_accuracy: 0.9418 - val_loss: 0.4454\n"
          ]
        },
        {
          "output_type": "stream",
          "name": "stderr",
          "text": [
            "WARNING:absl:You are saving your model as an HDF5 file via `model.save()` or `keras.saving.save_model(model)`. This file format is considered legacy. We recommend using instead the native Keras format, e.g. `model.save('my_model.keras')` or `keras.saving.save_model(model, 'my_model.keras')`. \n"
          ]
        },
        {
          "output_type": "stream",
          "name": "stdout",
          "text": [
            "Model Training Completed in <2 min!\n",
            "Training Accuracy: 0.9286\n",
            "Validation Accuracy: 0.9418\n"
          ]
        }
      ],
      "source": [
        "import numpy as np\n",
        "import pandas as pd\n",
        "import tensorflow as tf\n",
        "from tensorflow import keras\n",
        "from tensorflow.keras.layers import (\n",
        "    Embedding, Conv1D, MaxPooling1D, LSTM, Bidirectional, Dense, Dropout,\n",
        "    Input, GlobalMaxPooling1D, BatchNormalization, Flatten\n",
        ")\n",
        "from tensorflow.keras.preprocessing.sequence import pad_sequences\n",
        "from tensorflow.keras.utils import to_categorical\n",
        "from sklearn.preprocessing import LabelEncoder\n",
        "from sklearn.model_selection import train_test_split\n",
        "from sklearn.utils.class_weight import compute_class_weight\n",
        "\n",
        "# Load dataset\n",
        "df = pd.read_csv(\"/content/drive/MyDrive/sanskrit_dataset_balanced.csv\")\n",
        "\n",
        "# Encode words and POS tags\n",
        "label_encoder = LabelEncoder()\n",
        "pos_tags_encoded = label_encoder.fit_transform(df[\"POS\"].values)\n",
        "num_classes = len(label_encoder.classes_)\n",
        "\n",
        "# Tokenization (Character-Level Encoding)\n",
        "max_length = 30  # Fixed for efficiency\n",
        "X = pad_sequences(df[\"Word\"].astype(str).apply(lambda x: [ord(c) for c in x]),\n",
        "                  maxlen=max_length, padding='post')\n",
        "\n",
        "y = to_categorical(pos_tags_encoded, num_classes=num_classes)\n",
        "\n",
        "# Train-test split\n",
        "X_train, X_test, y_train, y_test = train_test_split(X, y, test_size=0.2, stratify=y, random_state=42)\n",
        "\n",
        "# Compute class weights\n",
        "class_weights = dict(enumerate(compute_class_weight(\"balanced\", classes=np.unique(pos_tags_encoded), y=pos_tags_encoded)))\n",
        "\n",
        "# Build Optimized Model (Fast Execution)\n",
        "def build_model():\n",
        "    input_layer = Input(shape=(max_length,))\n",
        "\n",
        "    # **CNN-based Character Embedding**\n",
        "    embedding_layer = Embedding(input_dim=30000, output_dim=64, input_length=max_length)(input_layer)\n",
        "    cnn_layer = Conv1D(filters=32, kernel_size=3, activation='relu', padding='same')(embedding_layer)\n",
        "    cnn_layer = MaxPooling1D(pool_size=2)(cnn_layer)\n",
        "\n",
        "    # **BiLSTM Layer (Reduced Complexity)**\n",
        "    bilstm_layer = Bidirectional(LSTM(32, return_sequences=True, dropout=0.2))(cnn_layer)\n",
        "\n",
        "    # **Global Max Pooling instead of Attention (Faster)**\n",
        "    pooling_layer = GlobalMaxPooling1D()(bilstm_layer)\n",
        "\n",
        "    # **Dense Layers**\n",
        "    dense_layer = Dense(32, activation='relu')(pooling_layer)\n",
        "    dense_layer = BatchNormalization()(dense_layer)\n",
        "    dropout_layer = Dropout(0.2)(dense_layer)\n",
        "\n",
        "    # **Output Layer**\n",
        "    output_layer = Dense(num_classes, activation='softmax')(dropout_layer)\n",
        "\n",
        "    model = keras.Model(inputs=input_layer, outputs=output_layer)\n",
        "    model.compile(loss='categorical_crossentropy', optimizer=keras.optimizers.Adam(learning_rate=0.001), metrics=['accuracy'])\n",
        "    return model\n",
        "\n",
        "model = build_model()\n",
        "\n",
        "# Train Model\n",
        "early_stopping = keras.callbacks.EarlyStopping(monitor='val_accuracy', patience=3, restore_best_weights=True)\n",
        "history = model.fit(X_train, y_train, epochs=15, batch_size=1024, validation_data=(X_test, y_test),\n",
        "                    class_weight=class_weights, callbacks=[early_stopping])\n",
        "\n",
        "# Save Model\n",
        "model.save(\"sanskrit_pos_model_fast.h5\")\n",
        "\n",
        "# Print Accuracy\n",
        "train_acc = history.history['accuracy'][-1]\n",
        "val_acc = history.history['val_accuracy'][-1]\n",
        "print(f\"Model Training Completed in <2 min!\\nTraining Accuracy: {train_acc:.4f}\\nValidation Accuracy: {val_acc:.4f}\")\n",
        "\n"
      ]
    },
    {
      "cell_type": "code",
      "source": [
        "from google.colab import drive\n",
        "drive.mount('/content/drive')"
      ],
      "metadata": {
        "id": "5hxB00uVRF7v"
      },
      "execution_count": null,
      "outputs": []
    }
  ]
}